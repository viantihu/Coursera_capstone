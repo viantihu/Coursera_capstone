{
 "cells": [
  {
   "cell_type": "markdown",
   "metadata": {
    "collapsed": true
   },
   "source": [
    "# The Battle of the Neighborhoods Report"
   ]
  },
  {
   "cell_type": "markdown",
   "metadata": {},
   "source": [
    "## Introduction/ Business Problem"
   ]
  },
  {
   "cell_type": "markdown",
   "metadata": {},
   "source": [
    "My client is a small business owner from New York and is trying to open a second location of their business in the city of Dallas. The business is a high-end grocery store that serves only organic food. In the past, my client's biggest struggle has been completing with large chain stores like Trader Joe's, Whole Foods, and Sprouts. Therefore, I will recommend a location for my client based on the concentration of my client's competitors in a neighborhood. "
   ]
  },
  {
   "cell_type": "markdown",
   "metadata": {},
   "source": [
    "## Data "
   ]
  },
  {
   "cell_type": "markdown",
   "metadata": {},
   "source": [
    "I will be using Foursquare API Data to assess the location of my client to open their business in Dallas. The data points that I will be using are the locations of Trader Joe's, Whole Foods, and Sprouts. Based on the concentration of these locations I will recommend a location for my client. My recommendation will most likely be in a location where there is a low concentration of these grocery stores, but there are still some present. The low concentration is important because it means that the competition will be less. The presence of these grocery stores is also important in establishing my client's new business locatio because it means that the demographic of that neighborhood is most likely affluent and will be inclined to purchase from my client's business."
   ]
  },
  {
   "cell_type": "code",
   "execution_count": null,
   "metadata": {},
   "outputs": [],
   "source": []
  }
 ],
 "metadata": {
  "kernelspec": {
   "display_name": "Python 3.6",
   "language": "python",
   "name": "python3"
  },
  "language_info": {
   "codemirror_mode": {
    "name": "ipython",
    "version": 3
   },
   "file_extension": ".py",
   "mimetype": "text/x-python",
   "name": "python",
   "nbconvert_exporter": "python",
   "pygments_lexer": "ipython3",
   "version": "3.6.8"
  }
 },
 "nbformat": 4,
 "nbformat_minor": 1
}
